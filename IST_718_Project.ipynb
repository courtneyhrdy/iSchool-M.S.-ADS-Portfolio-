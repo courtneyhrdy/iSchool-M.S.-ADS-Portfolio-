{
  "nbformat": 4,
  "nbformat_minor": 0,
  "metadata": {
    "colab": {
      "name": "IST 718 Project.ipynb",
      "provenance": [],
      "collapsed_sections": [
        "9WVa9tUCMNee"
      ]
    },
    "kernelspec": {
      "name": "python3",
      "display_name": "Python 3"
    },
    "language_info": {
      "name": "python"
    }
  },
  "cells": [
    {
      "cell_type": "markdown",
      "metadata": {
        "id": "gH_GwmF--nb5"
      },
      "source": [
        "# IST 718 Project\n"
      ]
    },
    {
      "cell_type": "markdown",
      "metadata": {
        "id": "55WtvqOsAaWT"
      },
      "source": [
        "## 1. Download spark"
      ]
    },
    {
      "cell_type": "code",
      "metadata": {
        "id": "9OAhunXIBpoM"
      },
      "source": [
        "!apt-get install openjdk-8-jdk-headless -qq > /dev/null"
      ],
      "execution_count": null,
      "outputs": []
    },
    {
      "cell_type": "code",
      "metadata": {
        "id": "q1fQNtNFBzvI"
      },
      "source": [
        "!wget -q https://archive.apache.org/dist/spark/spark-3.0.0/spark-3.0.0-bin-hadoop3.2.tgz"
      ],
      "execution_count": null,
      "outputs": []
    },
    {
      "cell_type": "code",
      "metadata": {
        "id": "DQh5quNbB9v_"
      },
      "source": [
        "!tar xf spark-3.0.0-bin-hadoop3.2.tgz"
      ],
      "execution_count": null,
      "outputs": []
    },
    {
      "cell_type": "code",
      "metadata": {
        "id": "STeHNghkCA8e"
      },
      "source": [
        "!pip install -q findspark"
      ],
      "execution_count": null,
      "outputs": []
    },
    {
      "cell_type": "code",
      "metadata": {
        "id": "diHmOW_rCKtd"
      },
      "source": [
        "import os\n",
        "os.environ[\"JAVA_HOME\"] = \"/usr/lib/jvm/java-8-openjdk-amd64\"\n",
        "os.environ[\"SPARK_HOME\"] = \"/content/spark-3.0.0-bin-hadoop3.2\""
      ],
      "execution_count": null,
      "outputs": []
    },
    {
      "cell_type": "code",
      "metadata": {
        "id": "aYV-PWUzDF0T"
      },
      "source": [
        "!pip install -q findspark"
      ],
      "execution_count": null,
      "outputs": []
    },
    {
      "cell_type": "code",
      "metadata": {
        "id": "laMHvxS6CPKq"
      },
      "source": [
        "import findspark\n",
        "findspark.init()"
      ],
      "execution_count": null,
      "outputs": []
    },
    {
      "cell_type": "code",
      "metadata": {
        "id": "p0vMAxtzCRai"
      },
      "source": [
        "from pyspark.sql import SparkSession\n",
        "\n",
        "spark = SparkSession.builder\\\n",
        "        .master(\"local\")\\\n",
        "        .appName(\"Colab\")\\\n",
        "        .config('spark.ui.port', '4050')\\\n",
        "        .getOrCreate()"
      ],
      "execution_count": null,
      "outputs": []
    },
    {
      "cell_type": "code",
      "metadata": {
        "id": "9ZMgQzkADWx3"
      },
      "source": [
        "import pandas as pd"
      ],
      "execution_count": null,
      "outputs": []
    },
    {
      "cell_type": "code",
      "metadata": {
        "id": "ETbiYetaECnA",
        "colab": {
          "base_uri": "https://localhost:8080/"
        },
        "outputId": "fd6ec8c9-0af9-4708-b5f5-cb296d7fb460"
      },
      "source": [
        "from google.colab import drive\n",
        "drive.mount('/content/drive')"
      ],
      "execution_count": null,
      "outputs": [
        {
          "output_type": "stream",
          "name": "stdout",
          "text": [
            "Mounted at /content/drive\n"
          ]
        }
      ]
    },
    {
      "cell_type": "code",
      "metadata": {
        "id": "WcuYsGRYLItr"
      },
      "source": [
        "questions = spark.createDataFrame(pd.read_csv(\"/content/drive/MyDrive/IST 718/questionkey.csv\", sep=','))"
      ],
      "execution_count": null,
      "outputs": []
    },
    {
      "cell_type": "code",
      "metadata": {
        "id": "J9r5DlxmGRCO",
        "colab": {
          "base_uri": "https://localhost:8080/",
          "height": 398
        },
        "outputId": "dd8ec0ca-4d05-408f-93a4-ac656bafcd10"
      },
      "source": [
        "questions = spark.createDataFrame(pd.read_csv(\"/content/drive/MyDrive/IST 718 - Final Project /questionkey.csv\", sep=','))"
      ],
      "execution_count": null,
      "outputs": [
        {
          "output_type": "error",
          "ename": "FileNotFoundError",
          "evalue": "ignored",
          "traceback": [
            "\u001b[0;31m---------------------------------------------------------------------------\u001b[0m",
            "\u001b[0;31mFileNotFoundError\u001b[0m                         Traceback (most recent call last)",
            "\u001b[0;32m<ipython-input-13-12c9024b5b28>\u001b[0m in \u001b[0;36m<module>\u001b[0;34m()\u001b[0m\n\u001b[0;32m----> 1\u001b[0;31m \u001b[0mquestions\u001b[0m \u001b[0;34m=\u001b[0m \u001b[0mspark\u001b[0m\u001b[0;34m.\u001b[0m\u001b[0mcreateDataFrame\u001b[0m\u001b[0;34m(\u001b[0m\u001b[0mpd\u001b[0m\u001b[0;34m.\u001b[0m\u001b[0mread_csv\u001b[0m\u001b[0;34m(\u001b[0m\u001b[0;34m\"/content/drive/MyDrive/IST 718 - Final Project /questionkey.csv\"\u001b[0m\u001b[0;34m,\u001b[0m \u001b[0msep\u001b[0m\u001b[0;34m=\u001b[0m\u001b[0;34m','\u001b[0m\u001b[0;34m)\u001b[0m\u001b[0;34m)\u001b[0m\u001b[0;34m\u001b[0m\u001b[0;34m\u001b[0m\u001b[0m\n\u001b[0m",
            "\u001b[0;32m/usr/local/lib/python3.7/dist-packages/pandas/io/parsers.py\u001b[0m in \u001b[0;36mread_csv\u001b[0;34m(filepath_or_buffer, sep, delimiter, header, names, index_col, usecols, squeeze, prefix, mangle_dupe_cols, dtype, engine, converters, true_values, false_values, skipinitialspace, skiprows, skipfooter, nrows, na_values, keep_default_na, na_filter, verbose, skip_blank_lines, parse_dates, infer_datetime_format, keep_date_col, date_parser, dayfirst, cache_dates, iterator, chunksize, compression, thousands, decimal, lineterminator, quotechar, quoting, doublequote, escapechar, comment, encoding, dialect, error_bad_lines, warn_bad_lines, delim_whitespace, low_memory, memory_map, float_precision)\u001b[0m\n\u001b[1;32m    686\u001b[0m     )\n\u001b[1;32m    687\u001b[0m \u001b[0;34m\u001b[0m\u001b[0m\n\u001b[0;32m--> 688\u001b[0;31m     \u001b[0;32mreturn\u001b[0m \u001b[0m_read\u001b[0m\u001b[0;34m(\u001b[0m\u001b[0mfilepath_or_buffer\u001b[0m\u001b[0;34m,\u001b[0m \u001b[0mkwds\u001b[0m\u001b[0;34m)\u001b[0m\u001b[0;34m\u001b[0m\u001b[0;34m\u001b[0m\u001b[0m\n\u001b[0m\u001b[1;32m    689\u001b[0m \u001b[0;34m\u001b[0m\u001b[0m\n\u001b[1;32m    690\u001b[0m \u001b[0;34m\u001b[0m\u001b[0m\n",
            "\u001b[0;32m/usr/local/lib/python3.7/dist-packages/pandas/io/parsers.py\u001b[0m in \u001b[0;36m_read\u001b[0;34m(filepath_or_buffer, kwds)\u001b[0m\n\u001b[1;32m    452\u001b[0m \u001b[0;34m\u001b[0m\u001b[0m\n\u001b[1;32m    453\u001b[0m     \u001b[0;31m# Create the parser.\u001b[0m\u001b[0;34m\u001b[0m\u001b[0;34m\u001b[0m\u001b[0;34m\u001b[0m\u001b[0m\n\u001b[0;32m--> 454\u001b[0;31m     \u001b[0mparser\u001b[0m \u001b[0;34m=\u001b[0m \u001b[0mTextFileReader\u001b[0m\u001b[0;34m(\u001b[0m\u001b[0mfp_or_buf\u001b[0m\u001b[0;34m,\u001b[0m \u001b[0;34m**\u001b[0m\u001b[0mkwds\u001b[0m\u001b[0;34m)\u001b[0m\u001b[0;34m\u001b[0m\u001b[0;34m\u001b[0m\u001b[0m\n\u001b[0m\u001b[1;32m    455\u001b[0m \u001b[0;34m\u001b[0m\u001b[0m\n\u001b[1;32m    456\u001b[0m     \u001b[0;32mif\u001b[0m \u001b[0mchunksize\u001b[0m \u001b[0;32mor\u001b[0m \u001b[0miterator\u001b[0m\u001b[0;34m:\u001b[0m\u001b[0;34m\u001b[0m\u001b[0;34m\u001b[0m\u001b[0m\n",
            "\u001b[0;32m/usr/local/lib/python3.7/dist-packages/pandas/io/parsers.py\u001b[0m in \u001b[0;36m__init__\u001b[0;34m(self, f, engine, **kwds)\u001b[0m\n\u001b[1;32m    946\u001b[0m             \u001b[0mself\u001b[0m\u001b[0;34m.\u001b[0m\u001b[0moptions\u001b[0m\u001b[0;34m[\u001b[0m\u001b[0;34m\"has_index_names\"\u001b[0m\u001b[0;34m]\u001b[0m \u001b[0;34m=\u001b[0m \u001b[0mkwds\u001b[0m\u001b[0;34m[\u001b[0m\u001b[0;34m\"has_index_names\"\u001b[0m\u001b[0;34m]\u001b[0m\u001b[0;34m\u001b[0m\u001b[0;34m\u001b[0m\u001b[0m\n\u001b[1;32m    947\u001b[0m \u001b[0;34m\u001b[0m\u001b[0m\n\u001b[0;32m--> 948\u001b[0;31m         \u001b[0mself\u001b[0m\u001b[0;34m.\u001b[0m\u001b[0m_make_engine\u001b[0m\u001b[0;34m(\u001b[0m\u001b[0mself\u001b[0m\u001b[0;34m.\u001b[0m\u001b[0mengine\u001b[0m\u001b[0;34m)\u001b[0m\u001b[0;34m\u001b[0m\u001b[0;34m\u001b[0m\u001b[0m\n\u001b[0m\u001b[1;32m    949\u001b[0m \u001b[0;34m\u001b[0m\u001b[0m\n\u001b[1;32m    950\u001b[0m     \u001b[0;32mdef\u001b[0m \u001b[0mclose\u001b[0m\u001b[0;34m(\u001b[0m\u001b[0mself\u001b[0m\u001b[0;34m)\u001b[0m\u001b[0;34m:\u001b[0m\u001b[0;34m\u001b[0m\u001b[0;34m\u001b[0m\u001b[0m\n",
            "\u001b[0;32m/usr/local/lib/python3.7/dist-packages/pandas/io/parsers.py\u001b[0m in \u001b[0;36m_make_engine\u001b[0;34m(self, engine)\u001b[0m\n\u001b[1;32m   1178\u001b[0m     \u001b[0;32mdef\u001b[0m \u001b[0m_make_engine\u001b[0m\u001b[0;34m(\u001b[0m\u001b[0mself\u001b[0m\u001b[0;34m,\u001b[0m \u001b[0mengine\u001b[0m\u001b[0;34m=\u001b[0m\u001b[0;34m\"c\"\u001b[0m\u001b[0;34m)\u001b[0m\u001b[0;34m:\u001b[0m\u001b[0;34m\u001b[0m\u001b[0;34m\u001b[0m\u001b[0m\n\u001b[1;32m   1179\u001b[0m         \u001b[0;32mif\u001b[0m \u001b[0mengine\u001b[0m \u001b[0;34m==\u001b[0m \u001b[0;34m\"c\"\u001b[0m\u001b[0;34m:\u001b[0m\u001b[0;34m\u001b[0m\u001b[0;34m\u001b[0m\u001b[0m\n\u001b[0;32m-> 1180\u001b[0;31m             \u001b[0mself\u001b[0m\u001b[0;34m.\u001b[0m\u001b[0m_engine\u001b[0m \u001b[0;34m=\u001b[0m \u001b[0mCParserWrapper\u001b[0m\u001b[0;34m(\u001b[0m\u001b[0mself\u001b[0m\u001b[0;34m.\u001b[0m\u001b[0mf\u001b[0m\u001b[0;34m,\u001b[0m \u001b[0;34m**\u001b[0m\u001b[0mself\u001b[0m\u001b[0;34m.\u001b[0m\u001b[0moptions\u001b[0m\u001b[0;34m)\u001b[0m\u001b[0;34m\u001b[0m\u001b[0;34m\u001b[0m\u001b[0m\n\u001b[0m\u001b[1;32m   1181\u001b[0m         \u001b[0;32melse\u001b[0m\u001b[0;34m:\u001b[0m\u001b[0;34m\u001b[0m\u001b[0;34m\u001b[0m\u001b[0m\n\u001b[1;32m   1182\u001b[0m             \u001b[0;32mif\u001b[0m \u001b[0mengine\u001b[0m \u001b[0;34m==\u001b[0m \u001b[0;34m\"python\"\u001b[0m\u001b[0;34m:\u001b[0m\u001b[0;34m\u001b[0m\u001b[0;34m\u001b[0m\u001b[0m\n",
            "\u001b[0;32m/usr/local/lib/python3.7/dist-packages/pandas/io/parsers.py\u001b[0m in \u001b[0;36m__init__\u001b[0;34m(self, src, **kwds)\u001b[0m\n\u001b[1;32m   2008\u001b[0m         \u001b[0mkwds\u001b[0m\u001b[0;34m[\u001b[0m\u001b[0;34m\"usecols\"\u001b[0m\u001b[0;34m]\u001b[0m \u001b[0;34m=\u001b[0m \u001b[0mself\u001b[0m\u001b[0;34m.\u001b[0m\u001b[0musecols\u001b[0m\u001b[0;34m\u001b[0m\u001b[0;34m\u001b[0m\u001b[0m\n\u001b[1;32m   2009\u001b[0m \u001b[0;34m\u001b[0m\u001b[0m\n\u001b[0;32m-> 2010\u001b[0;31m         \u001b[0mself\u001b[0m\u001b[0;34m.\u001b[0m\u001b[0m_reader\u001b[0m \u001b[0;34m=\u001b[0m \u001b[0mparsers\u001b[0m\u001b[0;34m.\u001b[0m\u001b[0mTextReader\u001b[0m\u001b[0;34m(\u001b[0m\u001b[0msrc\u001b[0m\u001b[0;34m,\u001b[0m \u001b[0;34m**\u001b[0m\u001b[0mkwds\u001b[0m\u001b[0;34m)\u001b[0m\u001b[0;34m\u001b[0m\u001b[0;34m\u001b[0m\u001b[0m\n\u001b[0m\u001b[1;32m   2011\u001b[0m         \u001b[0mself\u001b[0m\u001b[0;34m.\u001b[0m\u001b[0munnamed_cols\u001b[0m \u001b[0;34m=\u001b[0m \u001b[0mself\u001b[0m\u001b[0;34m.\u001b[0m\u001b[0m_reader\u001b[0m\u001b[0;34m.\u001b[0m\u001b[0munnamed_cols\u001b[0m\u001b[0;34m\u001b[0m\u001b[0;34m\u001b[0m\u001b[0m\n\u001b[1;32m   2012\u001b[0m \u001b[0;34m\u001b[0m\u001b[0m\n",
            "\u001b[0;32mpandas/_libs/parsers.pyx\u001b[0m in \u001b[0;36mpandas._libs.parsers.TextReader.__cinit__\u001b[0;34m()\u001b[0m\n",
            "\u001b[0;32mpandas/_libs/parsers.pyx\u001b[0m in \u001b[0;36mpandas._libs.parsers.TextReader._setup_parser_source\u001b[0;34m()\u001b[0m\n",
            "\u001b[0;31mFileNotFoundError\u001b[0m: [Errno 2] No such file or directory: '/content/drive/MyDrive/IST 718 - Final Project /questionkey.csv'"
          ]
        }
      ]
    },
    {
      "cell_type": "markdown",
      "metadata": {
        "id": "z8Lohje1L_at"
      },
      "source": [
        "## 2. Dummy variables for each question \n",
        "Creating new columns that indicate each question code and the answer code"
      ]
    },
    {
      "cell_type": "code",
      "metadata": {
        "id": "krQxuWjdGmxc"
      },
      "source": [
        "questions.show()"
      ],
      "execution_count": null,
      "outputs": []
    },
    {
      "cell_type": "code",
      "metadata": {
        "id": "5BcoMOFYG2FK"
      },
      "source": [
        "#data = spark.createDataFrame(pd.read_csv(\"/content/drive/MyDrive/IST 718 - Final Project /data.csv\", sep=','))\n",
        "data2 = pd.read_csv(\"/content/drive/MyDrive/IST 718/data.csv\", sep=',')"
      ],
      "execution_count": null,
      "outputs": []
    },
    {
      "cell_type": "code",
      "metadata": {
        "id": "6Nnq6dwoG60l"
      },
      "source": [
        "data2 = pd.get_dummies(data = data2, columns = ['A1a',\n",
        " 'A1b',\n",
        " 'A2a',\n",
        " 'A2b',\n",
        " 'A2c',\n",
        " 'A2d',\n",
        " 'A2e',\n",
        " 'A2f',\n",
        " 'A2g',\n",
        " 'A2h',\n",
        " 'A3a',\n",
        " 'A3b',\n",
        " 'A3c',\n",
        " 'A3d',\n",
        " 'A3e',\n",
        " 'A3f',\n",
        " 'A3g',\n",
        " 'A3h',\n",
        " 'A3i',\n",
        " 'A3j',\n",
        " 'A3k',\n",
        " 'A3l',\n",
        " 'A3m',\n",
        " 'A4',\n",
        " 'A4ai',\n",
        " 'A4aii',\n",
        " 'A4aiii',\n",
        " 'A4aiv',\n",
        " 'A4av',\n",
        " 'A4avi',\n",
        " 'A4avii',\n",
        " 'B1a',\n",
        " 'B1b',\n",
        " 'B2a',\n",
        " 'B2b',\n",
        " 'B2c',\n",
        " 'B2d',\n",
        " 'B3a',\n",
        " 'B3b',\n",
        " 'B3c',\n",
        " 'B3d',\n",
        " 'B4a',\n",
        " 'B4b',\n",
        " 'B4c',\n",
        " 'B4d',\n",
        " 'B5a',\n",
        " 'B5b',\n",
        " 'B5c',\n",
        " 'B5d',\n",
        " 'B6',\n",
        " 'B7a',\n",
        " 'B7b',\n",
        " 'B7c',\n",
        " 'B7d',\n",
        " 'B7e',\n",
        " 'B8',\n",
        " 'B8ai',\n",
        " 'B8aii',\n",
        " 'B8aiii',\n",
        " 'B8aiv',\n",
        " 'B8av',\n",
        " 'B8avi',\n",
        " 'B8avii',\n",
        " 'B9',\n",
        " 'C1a',\n",
        " 'C1b',\n",
        " 'C1c',\n",
        " 'C1d',\n",
        " 'C1e',\n",
        " 'C1f',\n",
        " 'C1g',\n",
        " 'C2',\n",
        " 'C3',\n",
        " 'C4a',\n",
        " 'C4b',\n",
        " 'C4c',\n",
        " 'C4d',\n",
        " 'C4e',\n",
        " 'C4f',\n",
        " 'C4g',\n",
        " 'C4h',\n",
        " 'C4i',\n",
        " 'C4j',\n",
        " 'C4k',\n",
        " 'C4l',\n",
        " 'c4m',\n",
        " 'C4n',\n",
        " 'C4o',\n",
        " 'C4ii',\n",
        " 'C5',\n",
        " 'C6',\n",
        " 'C6ai',\n",
        " 'C6aii',\n",
        " 'C6aiii',\n",
        " 'C6aiv',\n",
        " 'C6av',\n",
        " 'C6avi',\n",
        " 'C6avii',\n",
        " 'C6aviii',\n",
        " 'C6aix',\n",
        " 'C6ax',\n",
        " 'C6axi',\n",
        " 'C7',\n",
        " 'C8',\n",
        " 'C9',\n",
        " 'D3',\n",
        " 'D8',\n",
        " 'D14',\n",
        " 'AgencySize'])"
      ],
      "execution_count": null,
      "outputs": []
    },
    {
      "cell_type": "code",
      "metadata": {
        "id": "Y_jUlcl6x3Fs"
      },
      "source": [
        "import numpy as np\n",
        "import pandas as pd"
      ],
      "execution_count": null,
      "outputs": []
    },
    {
      "cell_type": "code",
      "metadata": {
        "id": "TcjoG7AW0ipI",
        "collapsed": true
      },
      "source": [
        "#pd.plotting.scatter_matrix(data2)"
      ],
      "execution_count": null,
      "outputs": []
    },
    {
      "cell_type": "code",
      "metadata": {
        "id": "H49JZXWwHCnJ"
      },
      "source": [
        "#dummy variable\n",
        "from pyspark.sql import functions as fn, Row"
      ],
      "execution_count": null,
      "outputs": []
    },
    {
      "cell_type": "code",
      "metadata": {
        "id": "X7FlGJU2JZI6"
      },
      "source": [
        "data.show()"
      ],
      "execution_count": null,
      "outputs": []
    },
    {
      "cell_type": "code",
      "metadata": {
        "id": "gzATM9xj4YbX"
      },
      "source": [
        "data = spark.createDataFrame(pd.read_csv(\"/content/drive/MyDrive/IST 718/questionkey.csv\", sep=','))"
      ],
      "execution_count": null,
      "outputs": []
    },
    {
      "cell_type": "code",
      "metadata": {
        "id": "g5v7ZpXB5mU2"
      },
      "source": [
        "#linear regression\n",
        "training_df, validation_df, testing_df = data.randomSplit([0.6, 0.3, 0.1], seed=0)\n",
        "from pyspark.ml import feature, regression, Pipeline, classification, pipeline, evaluation\n",
        "from pyspark.ml.regression import LinearRegression\n",
        "from pyspark.ml.feature import VectorAssembler"
      ],
      "execution_count": null,
      "outputs": []
    },
    {
      "cell_type": "code",
      "metadata": {
        "id": "i37Apmrkqflg"
      },
      "source": [
        "linreg = Pipeline(stages=[feature.VectorAssembler(inputCols=[data_columns],\n",
        "                                        outputCol='features'),\n",
        "                          feature.OneHotEncoder(inputCol='features', \n",
        "                                                outputCol='encoded_features'),\n",
        "                 regression.LinearRegression(featuresCol='encoded_features', labelCol='B3b')])"
      ],
      "execution_count": null,
      "outputs": []
    },
    {
      "cell_type": "markdown",
      "metadata": {
        "id": "5oC-CPuVMPh4"
      },
      "source": [
        "# 3. Tokenization of questions"
      ]
    },
    {
      "cell_type": "markdown",
      "metadata": {
        "id": "TnGbtx7rL2IG"
      },
      "source": [
        "# 4. Modeling \n",
        "\n",
        "## 4a. Topic modeling PCA\n",
        "  Clustering correlated topics by the actual text of the question\n",
        "\n"
      ]
    },
    {
      "cell_type": "code",
      "metadata": {
        "id": "7A-IWf4VWNLy"
      },
      "source": [
        "from pyspark.sql import SparkSession\n",
        "import numpy as np\n",
        "\n",
        "spark = SparkSession.builder.getOrCreate()\n",
        "sc = spark.sparkContext\n",
        "from pyspark.ml import clustering\n",
        "from pyspark.ml import feature, regression, Pipeline, pipeline\n",
        "from pyspark.sql import types, Row, functions as fn\n",
        "from pyspark import sql\n",
        "import pandas as pd\n",
        "import matplotlib.pyplot as plt\n",
        "import requests\n",
        "stop_words = requests.get('http://ir.dcs.gla.ac.uk/resources/linguistic_utils/stop_words').text.split()\n",
        "\n",
        "sw_filter = feature.StopWordsRemover()\\\n",
        "  .setStopWords(stop_words)\\\n",
        "  .setCaseSensitive(False)\\\n",
        "  .setInputCol(\"words\")\\\n",
        "  .setOutputCol(\"filtered\")\n",
        "\n",
        "from pyspark.ml.linalg import Vectors\n",
        "def to_dense(sparse_vector):\n",
        "    return Vectors.dense(sparse_vector)\n",
        "from pyspark.ml.linalg import VectorUDT\n",
        "to_dense_udf = fn.udf(to_dense, VectorUDT())\n",
        "\n",
        "from pyspark import keyword_only\n",
        "from pyspark.ml import Transformer\n",
        "from pyspark.ml.param.shared import HasInputCol, HasOutputCol, Param\n",
        "\n",
        "\n",
        "class Densify(Transformer, HasInputCol, HasOutputCol):\n",
        "    @keyword_only\n",
        "    def __init__(self, inputCol=None, outputCol=None, stopwords=None):\n",
        "        super(Densify, self).__init__()\n",
        "        self._setDefault()\n",
        "#         print(self._input_kwargs)\n",
        "        kwargs = self._input_kwargs\n",
        "        self.setParams(**kwargs)\n",
        "\n",
        "    @keyword_only\n",
        "    def setParams(self, inputCol=None, outputCol=None):\n",
        "        kwargs = self._input_kwargs\n",
        "        return self._set(**kwargs)\n",
        "\n",
        "    def _transform(self, dataset):\n",
        "        out_col = self.getOutputCol()\n",
        "        in_col = dataset[self.getInputCol()]\n",
        "        return dataset.withColumn(out_col, to_dense_udf(in_col))"
      ],
      "execution_count": null,
      "outputs": []
    },
    {
      "cell_type": "code",
      "metadata": {
        "id": "wo46zmyiMGlU"
      },
      "source": [
        "questionkey = spark.createDataFrame(pd.read_csv(\"/content/drive/MyDrive/IST 718/questionkey.csv\", sep=','))"
      ],
      "execution_count": null,
      "outputs": []
    },
    {
      "cell_type": "code",
      "metadata": {
        "id": "IH3_-MbDWacn"
      },
      "source": [
        "pipeline = Pipeline(stages=[feature.RegexTokenizer(minTokenLength=2).setGaps(False).setPattern(\"\\\\p{L}+\").setInputCol(\"Question \").setOutputCol(\"words\"), \n",
        "                            feature.StopWordsRemover().setStopWords(stop_words).setCaseSensitive(False).setInputCol(\"words\").setOutputCol(\"filtered\"), \n",
        "                            feature.CountVectorizer(inputCol='filtered', outputCol='tf'),\n",
        "                            feature.IDF(inputCol='tf', outputCol='tfidf'), \n",
        "                            Densify(inputCol='tfidf', outputCol='dense_tfidf'), \n",
        "                            feature.Normalizer(inputCol=\"dense_tfidf\", outputCol=\"norm_tfidf\", p=2.0), \n",
        "                            feature.StandardScaler(withMean=True, withStd=False, inputCol='norm_tfidf', outputCol='centered_tfidf'), \n",
        "                            feature.PCA(k=7, inputCol='centered_tfidf', outputCol='pca_feat')]).fit(questionkey)\n"
      ],
      "execution_count": null,
      "outputs": []
    },
    {
      "cell_type": "code",
      "metadata": {
        "id": "wn9jfomGWbKY"
      },
      "source": [
        "question_id = np.array(questionkey.select('Question ID').rdd.map(lambda x: x['Question ID']).collect())\n",
        "X = np.array(pipeline.transform(questionkey).select('pca_feat').rdd.map(lambda x: x['pca_feat']).collect())"
      ],
      "execution_count": null,
      "outputs": []
    },
    {
      "cell_type": "code",
      "metadata": {
        "id": "dctG4MS1WfCn"
      },
      "source": [
        "idx = np.abs(X[:, 0]) < 0.2\n",
        "X = X[idx]\n",
        "question_id = question_id[idx]"
      ],
      "execution_count": null,
      "outputs": []
    },
    {
      "cell_type": "code",
      "metadata": {
        "id": "gklgIlphWfms",
        "colab": {
          "base_uri": "https://localhost:8080/",
          "height": 265
        },
        "outputId": "b4cae0b3-2c8a-4b9c-f651-c4059db8ec98"
      },
      "source": [
        "fig, ax = plt.subplots()\n",
        "ax.scatter(X[:,0], X[:,1])\n",
        "\n",
        "for i, txt in enumerate(question_id):\n",
        "    ax.annotate(txt, (X[i,0], X[i,1]))"
      ],
      "execution_count": null,
      "outputs": [
        {
          "output_type": "display_data",
          "data": {
            "image/png": "[encoded data removed]",
            "text/plain": [
              "<Figure size 432x288 with 1 Axes>"
            ]
          },
          "metadata": {
            "needs_background": "light"
          }
        }
      ]
    },
    {
      "cell_type": "markdown",
      "metadata": {
        "id": "9WVa9tUCMNee"
      },
      "source": [
        "\n",
        "# 5. K-means \n",
        "Clustering to identify who clusters with the target variable (what question answer is clustered with target variable: B3b)"
      ]
    },
    {
      "cell_type": "code",
      "metadata": {
        "id": "-bD33amnvI-Z"
      },
      "source": [
        "from pyspark.ml import clustering \n",
        "from pyspark.ml.linalg import Vectors"
      ],
      "execution_count": null,
      "outputs": []
    },
    {
      "cell_type": "code",
      "metadata": {
        "id": "Umi4Gqe8iV0t"
      },
      "source": [
        "kmeans = Pipeline(stages=[pipeline, clustering.KMeans(k=10, featuresCol='norm_tfidf', predictionCol='cluster')]).fit(questionkey)"
      ],
      "execution_count": null,
      "outputs": []
    },
    {
      "cell_type": "code",
      "metadata": {
        "id": "D4Zi2gztic08",
        "colab": {
          "base_uri": "https://localhost:8080/"
        },
        "outputId": "0cad5397-7513-42eb-e115-7aa84ee97c08"
      },
      "source": [
        "kmeans.transform(questionkey).where(fn.col('Question ID') == 'B3b').first()[-1] "
      ],
      "execution_count": null,
      "outputs": [
        {
          "output_type": "execute_result",
          "data": {
            "text/plain": [
              "7"
            ]
          },
          "metadata": {},
          "execution_count": 28
        }
      ]
    },
    {
      "cell_type": "code",
      "metadata": {
        "id": "Xcc8Okcyie2B"
      },
      "source": [
        "df = kmeans.transform(questionkey).toPandas()"
      ],
      "execution_count": null,
      "outputs": []
    },
    {
      "cell_type": "code",
      "metadata": {
        "id": "3hQla0mRiipu"
      },
      "source": [
        "cluster = df.loc[df['cluster'] == 7]"
      ],
      "execution_count": null,
      "outputs": []
    },
    {
      "cell_type": "code",
      "metadata": {
        "id": "jaoVu8TEoVJR"
      },
      "source": [
        "@fn.udf(returnType=types.ArrayType(types.FloatType()))\n",
        "def to_array(col):\n",
        "    return col.toArray().tolist()"
      ],
      "execution_count": null,
      "outputs": []
    },
    {
      "cell_type": "code",
      "metadata": {
        "id": "9YgD-1yIoV27",
        "colab": {
          "base_uri": "https://localhost:8080/",
          "height": 206
        },
        "outputId": "654ffbef-f0ad-4f47-c8d1-5a65cc7f37b3"
      },
      "source": [
        "pca_2d = kmeans.transform(questionkey).select('Question ID', 'Cluster', 'filtered', to_array('pca_feat').alias('pc_array')).select('Cluster', 'Question ID', 'filtered', fn.expr('pc_array[0]').alias('pc1'), fn.expr('pc_array[1]').alias('pc2'))\n",
        "pca_2d = pca_2d.toPandas()\n",
        "pca_2d.head()"
      ],
      "execution_count": null,
      "outputs": [
        {
          "output_type": "execute_result",
          "data": {
            "text/html": [
              "<div>\n",
              "<style scoped>\n",
              "    .dataframe tbody tr th:only-of-type {\n",
              "        vertical-align: middle;\n",
              "    }\n",
              "\n",
              "    .dataframe tbody tr th {\n",
              "        vertical-align: top;\n",
              "    }\n",
              "\n",
              "    .dataframe thead th {\n",
              "        text-align: right;\n",
              "    }\n",
              "</style>\n",
              "<table border=\"1\" class=\"dataframe\">\n",
              "  <thead>\n",
              "    <tr style=\"text-align: right;\">\n",
              "      <th></th>\n",
              "      <th>Cluster</th>\n",
              "      <th>Question ID</th>\n",
              "      <th>filtered</th>\n",
              "      <th>pc1</th>\n",
              "      <th>pc2</th>\n",
              "    </tr>\n",
              "  </thead>\n",
              "  <tbody>\n",
              "    <tr>\n",
              "      <th>0</th>\n",
              "      <td>1</td>\n",
              "      <td>A1a</td>\n",
              "      <td>[indicate, level, satisfaction, job, overall]</td>\n",
              "      <td>0.020225</td>\n",
              "      <td>-0.036175</td>\n",
              "    </tr>\n",
              "    <tr>\n",
              "      <th>1</th>\n",
              "      <td>1</td>\n",
              "      <td>A1b</td>\n",
              "      <td>[indicate, level, satisfaction, agency, employer]</td>\n",
              "      <td>-0.019919</td>\n",
              "      <td>-0.026743</td>\n",
              "    </tr>\n",
              "    <tr>\n",
              "      <th>2</th>\n",
              "      <td>9</td>\n",
              "      <td>A2a</td>\n",
              "      <td>[job, allows, utilise, skills, knowledge, abil...</td>\n",
              "      <td>0.023410</td>\n",
              "      <td>-0.028925</td>\n",
              "    </tr>\n",
              "    <tr>\n",
              "      <th>3</th>\n",
              "      <td>6</td>\n",
              "      <td>A2b</td>\n",
              "      <td>[clear, duties, responsibilities]</td>\n",
              "      <td>0.019958</td>\n",
              "      <td>0.009367</td>\n",
              "    </tr>\n",
              "    <tr>\n",
              "      <th>4</th>\n",
              "      <td>1</td>\n",
              "      <td>A2c</td>\n",
              "      <td>[understand, work, contributes, agency, object...</td>\n",
              "      <td>-0.061056</td>\n",
              "      <td>-0.012352</td>\n",
              "    </tr>\n",
              "  </tbody>\n",
              "</table>\n",
              "</div>"
            ],
            "text/plain": [
              "   Cluster Question ID  ...       pc1       pc2\n",
              "0        1         A1a  ...  0.020225 -0.036175\n",
              "1        1         A1b  ... -0.019919 -0.026743\n",
              "2        9         A2a  ...  0.023410 -0.028925\n",
              "3        6         A2b  ...  0.019958  0.009367\n",
              "4        1         A2c  ... -0.061056 -0.012352\n",
              "\n",
              "[5 rows x 5 columns]"
            ]
          },
          "metadata": {},
          "execution_count": 42
        }
      ]
    },
    {
      "cell_type": "code",
      "metadata": {
        "id": "IzRHNVolPRLy"
      },
      "source": [
        "pca_2d.to_csv('pca_2d.csv')"
      ],
      "execution_count": null,
      "outputs": []
    },
    {
      "cell_type": "code",
      "metadata": {
        "id": "tKxJnrr5oXxs",
        "colab": {
          "base_uri": "https://localhost:8080/",
          "height": 302
        },
        "outputId": "1e52d927-e762-4215-d0ef-c1d51d55e71a"
      },
      "source": [
        "import seaborn as sns\n",
        "sns.set(style=\"darkgrid\")\n",
        "sns.scatterplot(data=pca_2d, x='pc1', y='pc2', hue=pca_2d.Cluster.tolist())"
      ],
      "execution_count": null,
      "outputs": [
        {
          "output_type": "execute_result",
          "data": {
            "text/plain": [
              "<matplotlib.axes._subplots.AxesSubplot at 0x7f34bad0f390>"
            ]
          },
          "metadata": {},
          "execution_count": 33
        },
        {
          "output_type": "display_data",
          "data": {
            "image/png": "[encoded data removed]",
            "text/plain": [
              "<Figure size 432x288 with 1 Axes>"
            ]
          },
          "metadata": {}
        }
      ]
    },
    {
      "cell_type": "code",
      "metadata": {
        "colab": {
          "base_uri": "https://localhost:8080/",
          "height": 574
        },
        "id": "US_HL2bQU83z",
        "outputId": "011e71b2-34e1-4954-89f6-a9ab78f21c93"
      },
      "source": [
        "x=pca_2d['pc2']\n",
        "y=pca_2d['pc1']\n",
        "n=pca_2d['Question ID']\n",
        "plt.figure(figsize=(10,8))\n",
        "sns.scatterplot(x, y, hue=pca_2d['Cluster'], palette= 'deep')"
      ],
      "execution_count": null,
      "outputs": [
        {
          "output_type": "stream",
          "name": "stderr",
          "text": [
            "/usr/local/lib/python3.7/dist-packages/seaborn/_decorators.py:43: FutureWarning: Pass the following variables as keyword args: x, y. From version 0.12, the only valid positional argument will be `data`, and passing other arguments without an explicit keyword will result in an error or misinterpretation.\n",
            "  FutureWarning\n"
          ]
        },
        {
          "output_type": "execute_result",
          "data": {
            "text/plain": [
              "<matplotlib.axes._subplots.AxesSubplot at 0x7f34c89f3e90>"
            ]
          },
          "metadata": {},
          "execution_count": 34
        },
        {
          "output_type": "display_data",
          "data": {
            "image/png": "[encoded data removed]",
            "text/plain": [
              "<Figure size 720x576 with 1 Axes>"
            ]
          },
          "metadata": {}
        }
      ]
    },
    {
      "cell_type": "code",
      "metadata": {
        "colab": {
          "base_uri": "https://localhost:8080/",
          "height": 1000
        },
        "id": "_re3axgS-MU0",
        "outputId": "5a3a9be5-5ea5-4874-c779-c4713fd1c344"
      },
      "source": [
        "x=pca_2d['pc2']\n",
        "y=pca_2d['pc1']\n",
        "n=pca_2d['Question ID']\n",
        "plt.figure(figsize=(20,20))\n",
        "sns.scatterplot(x, y, hue=pca_2d['Cluster'], palette= 'deep')\n",
        "\n",
        "for i, txt in enumerate(n):\n",
        "    plt.annotate(txt, (x[i], y[i]))"
      ],
      "execution_count": null,
      "outputs": [
        {
          "output_type": "stream",
          "name": "stderr",
          "text": [
            "/usr/local/lib/python3.7/dist-packages/seaborn/_decorators.py:43: FutureWarning: Pass the following variables as keyword args: x, y. From version 0.12, the only valid positional argument will be `data`, and passing other arguments without an explicit keyword will result in an error or misinterpretation.\n",
            "  FutureWarning\n"
          ]
        },
        {
          "output_type": "display_data",
          "data": {
            "image/png": "[encoded data removed]",
            "text/plain": [
              "<Figure size 1440x1440 with 1 Axes>"
            ]
          },
          "metadata": {}
        }
      ]
    },
    {
      "cell_type": "markdown",
      "metadata": {
        "id": "6vOiQSPd3glB"
      },
      "source": [
        "# 6. LDA"
      ]
    },
    {
      "cell_type": "code",
      "metadata": {
        "id": "zjW2Gnm4fEVw"
      },
      "source": [
        "lda = Pipeline(stages=[pipeline, clustering.LDA(k=10, featuresCol='norm_tfidf', topicDistributionCol='lda_feat')]).fit(questionkey)"
      ],
      "execution_count": null,
      "outputs": []
    },
    {
      "cell_type": "code",
      "metadata": {
        "id": "K4L4nzfLFPZz",
        "colab": {
          "base_uri": "https://localhost:8080/"
        },
        "outputId": "5eb715f0-190e-49d5-e164-d12f9e260f90"
      },
      "source": [
        "lda_model = lda.stages[-1]\n",
        "lda_model.describeTopics(maxTermsPerTopic=10).select('termIndices').show()"
      ],
      "execution_count": null,
      "outputs": [
        {
          "output_type": "stream",
          "name": "stdout",
          "text": [
            "+--------------------+\n",
            "|         termIndices|\n",
            "+--------------------+\n",
            "|[11, 13, 12, 10, ...|\n",
            "|[19, 291, 257, 20...|\n",
            "|[3, 2, 8, 7, 9, 5...|\n",
            "|[57, 254, 337, 27...|\n",
            "|[18, 21, 39, 239,...|\n",
            "|[314, 168, 150, 6...|\n",
            "|[186, 102, 35, 62...|\n",
            "|[117, 118, 261, 7...|\n",
            "|[76, 354, 43, 46,...|\n",
            "|[0, 24, 16, 26, 2...|\n",
            "+--------------------+\n",
            "\n"
          ]
        }
      ]
    },
    {
      "cell_type": "code",
      "metadata": {
        "id": "7BXAGLcqFTM7"
      },
      "source": [
        "terms_matrix = np.array(lda_model.describeTopics(10).rdd.map(lambda x: x['termIndices']).collect())"
      ],
      "execution_count": null,
      "outputs": []
    },
    {
      "cell_type": "code",
      "metadata": {
        "id": "zE0ZDvW3FWEc"
      },
      "source": [
        "vocabulary = pipeline.stages[2].vocabulary"
      ],
      "execution_count": null,
      "outputs": []
    },
    {
      "cell_type": "code",
      "metadata": {
        "id": "h9k0alToFYGb",
        "colab": {
          "base_uri": "https://localhost:8080/"
        },
        "outputId": "f7533bfd-c400-4e83-d756-435ba0fbc3e5"
      },
      "source": [
        "np.array(vocabulary)[terms_matrix]\n",
        "#10 topics and their top keywords "
      ],
      "execution_count": null,
      "outputs": [
        {
          "output_type": "execute_result",
          "data": {
            "text/plain": [
              "array([['experienced', 'nature', 'describes', 'bullying', 'yes',\n",
              "        'following', 'form', 'frightening', 'humiliating', 'screaming'],\n",
              "       ['meetings', 'intoxication', 'degrading', 'aggressive', 'holding',\n",
              "        'honesty', 'culture', 'suitable', 'including', 'attachment'],\n",
              "       ['behaviour', 'workplace', 'witnessed', 'unethical', 'types',\n",
              "        'report', 'months', 'following', 'information', 'did'],\n",
              "       ['decisions', 'fair', 'recruitment', 'promotion', 'directly',\n",
              "        'adequately', 'overall', 'sought', 'objectives', 'honesty'],\n",
              "       ['supervisor', 'immediate', 'group', 'impacting', 'performance',\n",
              "        'business', 'communicates', 'risks', 'work', 'effectively'],\n",
              "       ['health', 'actively', 'wellbeing', 'ethical', 'encourages',\n",
              "        'committed', 'employees', 'headcount', 'size', 'behaviour'],\n",
              "       ['highest', 'objectives', 'level', 'achieve', 'satisfaction',\n",
              "        'motivates', 'education', 'overall', 'indicate', 'treat'],\n",
              "       ['honesty', 'integrity', 'demonstrate', 'workers', 'provide',\n",
              "        'leadership', 'leaders', 'workplace', 'demonstrates',\n",
              "        'knowledge'],\n",
              "       ['available', 'satisfied', 'career', 'opportunities', 'positive',\n",
              "        'progression', 'current', 'difference', 'committed', 'excellent'],\n",
              "       ['agency', 'planning', 'leave', 'intend', 'years', 'work',\n",
              "        'documented', 'topics', 'sufficiently', 'discussed']],\n",
              "      dtype='<U16')"
            ]
          },
          "metadata": {},
          "execution_count": 40
        }
      ]
    },
    {
      "cell_type": "code",
      "metadata": {
        "id": "Xrevix2yFdKC",
        "colab": {
          "base_uri": "https://localhost:8080/"
        },
        "outputId": "09ba416c-3685-480d-e0ac-4333bc3ab778"
      },
      "source": [
        "lda.transform(questionkey).where(fn.col('Question ID') == 'B3b').first()['lda_feat']\n",
        "#Topic 4 "
      ],
      "execution_count": null,
      "outputs": [
        {
          "output_type": "execute_result",
          "data": {
            "text/plain": [
              "DenseVector([0.0287, 0.0273, 0.0308, 0.0276, 0.7396, 0.0286, 0.0281, 0.0282, 0.0283, 0.0328])"
            ]
          },
          "metadata": {},
          "execution_count": 41
        }
      ]
    },
    {
      "cell_type": "code",
      "metadata": {
        "id": "GwDpR3ZhM-rs"
      },
      "source": [
        ""
      ],
      "execution_count": null,
      "outputs": []
    },
    {
      "cell_type": "markdown",
      "metadata": {
        "id": "TBwFIe-bsQUm"
      },
      "source": [
        "# 7. Random Forest"
      ]
    },
    {
      "cell_type": "code",
      "metadata": {
        "id": "bS0vOJFWsSaf"
      },
      "source": [
        ""
      ],
      "execution_count": null,
      "outputs": []
    },
    {
      "cell_type": "markdown",
      "metadata": {
        "id": "R5BmnMf2G8Su"
      },
      "source": [
        "# 8. Association Rules Mining\n"
      ]
    },
    {
      "cell_type": "code",
      "metadata": {
        "id": "YsYQMIlxG8S3"
      },
      "source": [
        ""
      ],
      "execution_count": null,
      "outputs": []
    }
  ]
}