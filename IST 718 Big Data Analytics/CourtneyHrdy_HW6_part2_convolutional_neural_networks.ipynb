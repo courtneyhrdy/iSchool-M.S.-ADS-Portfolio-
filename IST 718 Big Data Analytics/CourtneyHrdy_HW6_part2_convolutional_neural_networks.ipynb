{
 "cells": [
  {
   "cell_type": "markdown",
   "metadata": {
    "deletable": false,
    "editable": false,
    "nbgrader": {
     "cell_type": "markdown",
     "checksum": "abad3159da619fb3a027ca1e07176315",
     "grade": false,
     "grade_id": "cell-bff3e3124fc86f15",
     "locked": true,
     "schema_version": 3,
     "solution": false,
     "task": false
    }
   },
   "source": [
    "# IST 718: Big Data Analytics\n",
    "\n",
    "- Professor: Daniel Acuna <deacuna@syr.edu>\n",
    "\n",
    "## General instructions:\n",
    "\n",
    "- You are welcome to discuss the problems with your classmates but __you are not allowed to copy any part of your answers either from your classmates or from the internet__\n",
    "- You can put the homework files anywhere you want in your https://jupyterhub.ischool.syr.edu/ workspace but _do not change_ the file names. The TAs and the professor use these names to grade your homework.\n",
    "- Remove or comment out code that contains `raise NotImplementedError`. This is mainly to make the `assert` statement fail if nothing is submitted.\n",
    "- The tests shown in some cells (i.e., `assert` and `np.testing.` statements) are used to grade your answers. **However, the professor and TAs will use __additional__ test for your answer. Think about cases where your code should run even if it passess all the tests you see.**\n",
    "- Before downloading and submitting your work through Blackboard, remember to save and press `Validate` (or go to \n",
    "`Kernel`$\\rightarrow$`Restart and Run All`). \n",
    "- Good luck!"
   ]
  },
  {
   "cell_type": "code",
   "execution_count": 1,
   "metadata": {},
   "outputs": [],
   "source": [
    "import torch\n",
    "import torch.nn as nn\n",
    "from torch.autograd import Variable\n",
    "from torch.utils.data import TensorDataset, DataLoader\n",
    "import torch\n",
    "import torchvision\n",
    "import torchvision.transforms as transforms\n",
    "\n",
    "import matplotlib.pyplot as plt\n",
    "import numpy as np"
   ]
  },
  {
   "cell_type": "markdown",
   "metadata": {
    "deletable": false,
    "editable": false,
    "nbgrader": {
     "cell_type": "markdown",
     "checksum": "d3c5846bf62098776fe22098ee399480",
     "grade": false,
     "grade_id": "cell-eefe9741f9aa38bc",
     "locked": true,
     "schema_version": 3,
     "solution": false,
     "task": false
    }
   },
   "source": [
    "## Question 1 (35 pts):\n",
    "\n",
    "In this homework, we will analyze different architectures for the prediction of MNIST digits.\n",
    "The code below will load the MNIST data and create a data loader for training and testing (`trainloader` and `testloader`, respectively). Also, the code defines a special layer that flattens a volumetric layer into a set of neurons (`Flatten`) leaving the road ready for creating a fully connected layer."
   ]
  },
  {
   "cell_type": "code",
   "execution_count": 2,
   "metadata": {},
   "outputs": [],
   "source": [
    "# READ ONLY CELL\n",
    "# MNIST dataset\n",
    "transform = transforms.Compose(\n",
    "    [transforms.ToTensor()])\n",
    "train_dataset = torchvision.datasets.MNIST(root='~', train=True, transform=transform, download=True)\n",
    "test_dataset = torchvision.datasets.MNIST(root='~', train=False, transform=transform)\n",
    "\n",
    "# create training and testing data\n",
    "trainloader = torch.utils.data.DataLoader(train_dataset, batch_size=4,\n",
    "                                          shuffle=True, num_workers=0)\n",
    "testloader = torch.utils.data.DataLoader(test_dataset, batch_size=4,\n",
    "                                         shuffle=False, num_workers=0)\n",
    "\n",
    "# special module to flatten a layer\n",
    "# Flattens the dimensions of a convolutional network. This module does not exist in pytorch so we have\n",
    "# to create it\n",
    "class Flatten(nn.Module):\n",
    "    def __init__(self):\n",
    "        super(Flatten, self).__init__()\n",
    "\n",
    "    def forward(self, x):\n",
    "        shape = torch.prod(torch.tensor(x.shape[1:])).item()\n",
    "        return x.view(-1, shape)"
   ]
  },
  {
   "cell_type": "code",
   "execution_count": 3,
   "metadata": {},
   "outputs": [
    {
     "name": "stdout",
     "output_type": "stream",
     "text": [
      "zsh:1: command not found: wget\n",
      "tar: Error opening archive: Failed to open 'MNIST.tar.gz'\n"
     ]
    }
   ],
   "source": [
    "# Get MNIST dataset\n",
    "!wget www.di.ens.fr/~lelarge/MNIST.tar.gz\n",
    "\n",
    "!tar -zxvf MNIST.tar.gz\n",
    "from torchvision.datasets import MNIST\n",
    "transform = transforms.Compose([transforms.ToTensor()])\n",
    "train_dataset = MNIST(root = './', train=True, download=True, transform=transform)\n",
    "val_dataset = MNIST(root = './', train=False, download=True, transform=transform)\n",
    "# create training and testing data\n",
    "trainloader = torch.utils.data.DataLoader(train_dataset, batch_size=4,\n",
    "                                          shuffle=True, num_workers=0)\n",
    "testloader = torch.utils.data.DataLoader(val_dataset, batch_size=4,\n",
    "                                         shuffle=False, num_workers=0)\n",
    "# special module to flatten a layer\n",
    "# Flattens the dimensions of a convolutional network. This module does not exist in pytorch so we have\n",
    "# to create it\n",
    "class Flatten(nn.Module):\n",
    "    def __init__(self):\n",
    "        super(Flatten, self).__init__()\n",
    "    def forward(self, x):\n",
    "        shape = torch.prod(torch.tensor(x.shape[1:])).item()\n",
    "        return x.view(-1, shape)"
   ]
  },
  {
   "cell_type": "markdown",
   "metadata": {
    "deletable": false,
    "editable": false,
    "nbgrader": {
     "cell_type": "markdown",
     "checksum": "26f9934875de0719981a11ad5e90e43c",
     "grade": false,
     "grade_id": "cell-e0b536278a6c19a7",
     "locked": true,
     "schema_version": 3,
     "solution": false,
     "task": false
    }
   },
   "source": [
    "The following function creates a neural network but requires you to specificy the correct input and output dimensions to the last layer, which is a fully connected layer."
   ]
  },
  {
   "cell_type": "code",
   "execution_count": 4,
   "metadata": {
    "deletable": false,
    "editable": false,
    "nbgrader": {
     "cell_type": "code",
     "checksum": "2bb644d2a9566ed04f4607d35746ed08",
     "grade": false,
     "grade_id": "cell-ba68f2243e755dbe",
     "locked": true,
     "schema_version": 3,
     "solution": false,
     "task": false
    }
   },
   "outputs": [],
   "source": [
    "# READ ONLY CELL\n",
    "def create_cnn(fully_connected_input, fully_connected_output):\n",
    "    \"\"\"\n",
    "    Convolutional neural network with\n",
    "    CONV => ReLU => MaxPool => FC\n",
    "    \"\"\"\n",
    "    model = nn.Sequential(\n",
    "        nn.Conv2d(1, 3, kernel_size=4, stride=2, padding=2),\n",
    "        nn.ReLU(),\n",
    "        nn.MaxPool2d(kernel_size=3, stride=3),    \n",
    "        Flatten(),\n",
    "        nn.Linear(fully_connected_input, fully_connected_output)\n",
    "    )\n",
    "    return model"
   ]
  },
  {
   "cell_type": "markdown",
   "metadata": {
    "deletable": false,
    "editable": false,
    "nbgrader": {
     "cell_type": "markdown",
     "checksum": "a4280caccbea673a4dc25fab5267fb20",
     "grade": false,
     "grade_id": "cell-a8267f60dd9f0fd8",
     "locked": true,
     "schema_version": 3,
     "solution": false,
     "task": false
    }
   },
   "source": [
    "The function create_cnn creates a very specific architecture (CONV => ReLU => MaxPool => FC) but requires you to enter the correct number of input neurons for the fully connected layer (fully_connected_input) and output neurons for the network (fully_connected_output).\n",
    "Consider that the MNIST images have width and height 28. The convolutional layer has a 3 kernels of size 4, stride of 2, and padding of 2. The max pooling layer has a kernel size of 3 and stride of 3. \\\n",
    "Below, define the appropriate variables `fully_connected_input` and `fully_connected_output` so that create_cnn can be appropriately used to create a CNN for the MNIST dataset. Consider that for MNIST you are predicting digits.\n",
    "Use the equations seen in class to compute the volume of the convolution layer and max pooling layer. You will use this volumes and slice dimensions for determining these variables."
   ]
  },
  {
   "cell_type": "code",
   "execution_count": 5,
   "metadata": {
    "deletable": false,
    "nbgrader": {
     "cell_type": "code",
     "checksum": "d5603f7d86bccc88d3e8c0cc76bcbcb9",
     "grade": false,
     "grade_id": "cell-fab0c347a29c573d",
     "locked": false,
     "schema_version": 3,
     "solution": true,
     "task": false
    }
   },
   "outputs": [
    {
     "data": {
      "text/plain": [
       "Sequential(\n",
       "  (0): Conv2d(1, 3, kernel_size=(4, 4), stride=(2, 2), padding=(2, 2))\n",
       "  (1): ReLU()\n",
       "  (2): MaxPool2d(kernel_size=3, stride=3, padding=0, dilation=1, ceil_mode=False)\n",
       "  (3): Flatten()\n",
       "  (4): Linear(in_features=75, out_features=1, bias=True)\n",
       ")"
      ]
     },
     "execution_count": 5,
     "metadata": {},
     "output_type": "execute_result"
    }
   ],
   "source": [
    "# define fully_connected_input and fully_connected_output\n",
    "\n",
    "fully_connected_input = 75\n",
    "fully_connected_output = 1\n",
    "\n",
    "    \n",
    "create_cnn(fully_connected_input, fully_connected_output)"
   ]
  },
  {
   "cell_type": "code",
   "execution_count": 6,
   "metadata": {
    "deletable": false,
    "editable": false,
    "nbgrader": {
     "cell_type": "code",
     "checksum": "66b1dd06e8761e2e9e1bb07030d0c7be",
     "grade": true,
     "grade_id": "cell-892c6310f37991dd",
     "locked": true,
     "points": 35,
     "schema_version": 3,
     "solution": false,
     "task": false
    }
   },
   "outputs": [
    {
     "name": "stdout",
     "output_type": "stream",
     "text": [
      "Prediction from uninitialized CNN: tensor([[-0.0264]], grad_fn=<AddmmBackward0>)\n"
     ]
    },
    {
     "data": {
      "image/png": "[encoded data removed]",
      "text/plain": [
       "<Figure size 432x288 with 1 Axes>"
      ]
     },
     "metadata": {
      "needs_background": "light"
     },
     "output_type": "display_data"
    }
   ],
   "source": [
    "# 35 pts\n",
    "X, label = next(iter(trainloader))\n",
    "plt.imshow(X[0, 0].numpy(), 'gray');\n",
    "plt.title(f'Label: {str(label[0].numpy())}');\n",
    "assert create_cnn(fully_connected_input, fully_connected_output)\n",
    "model = create_cnn(fully_connected_input, fully_connected_output)\n",
    "print(f\"Prediction from uninitialized CNN: {model(X[[0]])}\")"
   ]
  }
 ],
 "metadata": {
  "kernelspec": {
   "display_name": "Python 3",
   "language": "python",
   "name": "python3"
  },
  "language_info": {
   "codemirror_mode": {
    "name": "ipython",
    "version": 3
   },
   "file_extension": ".py",
   "mimetype": "text/x-python",
   "name": "python",
   "nbconvert_exporter": "python",
   "pygments_lexer": "ipython3",
   "version": "3.8.5"
  }
 },
 "nbformat": 4,
 "nbformat_minor": 4
}
